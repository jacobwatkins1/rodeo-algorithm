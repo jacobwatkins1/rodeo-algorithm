{
 "cells": [
  {
   "cell_type": "code",
   "execution_count": 1,
   "id": "7c78692a",
   "metadata": {},
   "outputs": [],
   "source": [
    "import numpy as np\n",
    "from sympy import *\n",
    "from qiskit import *\n",
    "from qiskit.quantum_info import Kraus, SuperOp\n",
    "from qiskit.providers.aer import AerSimulator\n",
    "from qiskit.tools.visualization import plot_histogram\n",
    "\n",
    "# Import from Qiskit Aer noise module\n",
    "from qiskit.providers.aer.noise import NoiseModel\n",
    "from qiskit.providers.aer.noise import QuantumError, ReadoutError\n",
    "from qiskit.providers.aer.noise import pauli_error\n",
    "from qiskit.providers.aer.noise import depolarizing_error\n",
    "from qiskit.providers.aer.noise import thermal_relaxation_error\n",
    "from numpy import linalg as la"
   ]
  },
  {
   "cell_type": "code",
   "execution_count": 2,
   "id": "907827b1",
   "metadata": {},
   "outputs": [],
   "source": [
    "Id = np.matrix([[1,0],[0,1]],dtype=complex)\n",
    "X = np.matrix([[0,1],[1,0]],dtype=complex)\n",
    "Y = np.matrix([[0,-1j],[1j,0]],dtype=complex)\n",
    "Z = np.matrix([[1,0],[0,-1]],dtype=complex)"
   ]
  },
  {
   "cell_type": "code",
   "execution_count": 3,
   "id": "6b043f1f",
   "metadata": {},
   "outputs": [],
   "source": [
    "# The values used in our paper. \n",
    "a= -0.08496099317164885 \n",
    "b= -0.8913449722923625 \n",
    "c= 0.2653567873681286 \n",
    "d= 0.5720506205204723"
   ]
  },
  {
   "cell_type": "code",
   "execution_count": 4,
   "id": "6d4324bd",
   "metadata": {},
   "outputs": [],
   "source": [
    "# The values used in our paper. \n",
    "c_i= -0.8453688208879107 \n",
    "c_x= 0.006726766902514836 \n",
    "c_y= -0.29354208134440296 \n",
    "c_z= 0.18477436355081123"
   ]
  },
  {
   "cell_type": "code",
   "execution_count": 5,
   "id": "30d255a1",
   "metadata": {},
   "outputs": [
    {
     "name": "stdout",
     "output_type": "stream",
     "text": [
      "[[ 0.48708963+0.j         -0.89134497-0.26535679j]\n",
      " [-0.89134497+0.26535679j -0.65701161+0.j        ]]\n"
     ]
    }
   ],
   "source": [
    "# The Hamiltonian. \n",
    "H = a*Id+b*X+c*Y+d*Z\n",
    "print(H)"
   ]
  },
  {
   "cell_type": "code",
   "execution_count": 6,
   "id": "13d2597e",
   "metadata": {},
   "outputs": [
    {
     "name": "stdout",
     "output_type": "stream",
     "text": [
      "The energy eigenvalues of H are: 1.0068961388154372 and -1.1768181251587344\n",
      "The corresponding eigenvectors are: \n",
      " [[ 0.87290447+0.j        ]\n",
      " [-0.46760946+0.13920912j]] \n",
      " and \n",
      " [[0.46760946+0.13920912j]\n",
      " [0.87290447+0.j        ]]\n"
     ]
    }
   ],
   "source": [
    "# Find the exact eigenstates and eigenvalues. \n",
    "Awh, Avh = la.eig(H)\n",
    "Aeval0h = float(re(Awh[0]))\n",
    "Aeval1h = float(re(Awh[1]))\n",
    "Aevec0h = Avh[:,0]\n",
    "Aevec1h = Avh[:,1]\n",
    "print('The energy eigenvalues of H are:',Aeval0h, 'and', Aeval1h)\n",
    "print('The corresponding eigenvectors are:', '\\n', Aevec0h,'\\n', 'and','\\n', Aevec1h)"
   ]
  },
  {
   "cell_type": "code",
   "execution_count": null,
   "id": "155720da",
   "metadata": {},
   "outputs": [],
   "source": []
  },
  {
   "cell_type": "markdown",
   "id": "2512d7de",
   "metadata": {},
   "source": [
    "### Quantum Circuit"
   ]
  },
  {
   "cell_type": "code",
   "execution_count": 7,
   "id": "537b72f4",
   "metadata": {},
   "outputs": [],
   "source": [
    "N = 3\n",
    "Aevec0h1 = [0.8729044694074841+0j, -0.4676094626792474+0.13920911500783384j]"
   ]
  },
  {
   "cell_type": "code",
   "execution_count": 8,
   "id": "a3e1720b",
   "metadata": {},
   "outputs": [],
   "source": [
    "def qc1(E_targ,tstep,phi):                      \n",
    "    \n",
    "    ao = a + phi*c_i\n",
    "    bo = b + phi*c_x\n",
    "    co = c + phi*c_y\n",
    "    do = d + phi*c_z\n",
    "    \n",
    "    sigo = Matrix([[bo],[co],[do]])\n",
    "    n_hato = np.dot(1/sqrt(bo**2+co**2+do**2),sigo)\n",
    "    nxo, nyo, nzo = [float(i.item()) for i in n_hato]    \n",
    "    \n",
    "    theta = 2*tstep*sqrt(bo**2+co**2+do**2) % (4*pi)   \n",
    "    delta = float(re(atan(nzo*tan(theta/2))+atan(nxo/nyo)))\n",
    "    beta = float(re(atan(nzo*tan(theta/2))-atan(nxo/nyo)))\n",
    "    gamma = float(2*re(acos(cos(theta/2)/cos((delta+beta)/2)))) \n",
    "    if nyo > 0 and theta > 2*pi:\n",
    "        gamma *= (-1)\n",
    "    elif nyo < 0 and theta <= 2*pi:\n",
    "        gamma *= (-1)   \n",
    "    \n",
    "    quanc1t = QuantumCircuit(2)\n",
    "    quanc1t.h(1)\n",
    "    quanc1t.cu(gamma,beta,delta,0,1,0)\n",
    "    quanc1t.p(tstep*(E_targ-ao)-0.5*(delta+beta),1)               # The Energy Sensor.\n",
    "    quanc1t.h(1) \n",
    "    quanc1t.barrier()\n",
    "    return quanc1t"
   ]
  },
  {
   "cell_type": "code",
   "execution_count": 9,
   "id": "2aedf067",
   "metadata": {},
   "outputs": [],
   "source": [
    "def qct(E_targ,sigma,phi):              \n",
    "    qrz = QuantumRegister(2,'q')\n",
    "    crz = ClassicalRegister(N,'c')\n",
    "    qc = QuantumCircuit(qrz,crz)\n",
    "    t = np.random.normal(0, sigma, N).tolist() \n",
    "    qc.initialize(Aevec0h1, 0)\n",
    "    \n",
    "    for i in range (N):\n",
    "   #     sub_inst = qc1(E_targ,t[i],epsilon).to_instruction()\n",
    "   #     qc.append(sub_inst,[obj,arena])\n",
    "        qc.append(qc1(E_targ,t[i],phi),[0,1])   # 0:Obj, 1:Arena.\n",
    "        qc.measure(1,i)    # Mid-circuit measurement, arena is measured. \n",
    "        qc.barrier()\n",
    "\n",
    " #   qc = transpile(qc,backend=backend,optimization_level=2,initial_layout = [obj,arena])\n",
    "  #  qc = transpile(qc,backend=backend,optimization_level=2,layout_method = \"noise_adaptive\")\n",
    "   # qc.barrier()\n",
    "    return qc"
   ]
  },
  {
   "cell_type": "markdown",
   "id": "472a78e2",
   "metadata": {},
   "source": [
    "### Noise Model"
   ]
  },
  {
   "cell_type": "markdown",
   "id": "59cc920e",
   "metadata": {},
   "source": [
    "1. Depolarizing quantum channel: simulates the bit-flip and phase-flip errors that occur during operations due to gate fidelities within the circuit.\n",
    "\n",
    "$$\n",
    "\\mathcal{E}(\\rho) = \\frac{pI}{2^n}\\text{Tr}(\\rho)+(1-p)\\rho,\\quad\\text{where}\n",
    "\\quad\\rho \\equiv\\sum_ip_i|\\psi_i\\rangle\\langle\\psi_i|.\n",
    "$$\n"
   ]
  },
  {
   "cell_type": "code",
   "execution_count": 12,
   "id": "73e5077a",
   "metadata": {},
   "outputs": [],
   "source": [
    "def depolarizing_noise(one_qubit_noise, two_qubit_noise):\n",
    "    depolarizing_model = NoiseModel()\n",
    "    error_1 = depolarizing_error(one_qubit_noise, 1)\n",
    "    error_2 = depolarizing_error(two_qubit_noise, 2)\n",
    "    depolarizing_model.add_all_qubit_quantum_error(error_1, ['u1', 'u2', 'u3'])\n",
    "    depolarizing_model.add_all_qubit_quantum_error(error_2, ['cx'])\n",
    "    print(depolarizing_model)\n",
    "    return depolarizing_model"
   ]
  },
  {
   "cell_type": "code",
   "execution_count": null,
   "id": "2affd325",
   "metadata": {},
   "outputs": [],
   "source": []
  },
  {
   "cell_type": "markdown",
   "id": "70e0fef1",
   "metadata": {},
   "source": [
    "2. Amplitude and phase damping error:"
   ]
  },
  {
   "cell_type": "code",
   "execution_count": null,
   "id": "d512819f",
   "metadata": {},
   "outputs": [],
   "source": []
  },
  {
   "cell_type": "code",
   "execution_count": null,
   "id": "fbeaced3",
   "metadata": {},
   "outputs": [],
   "source": []
  },
  {
   "cell_type": "code",
   "execution_count": null,
   "id": "725bea1e",
   "metadata": {},
   "outputs": [],
   "source": []
  },
  {
   "cell_type": "markdown",
   "id": "0c78768c",
   "metadata": {},
   "source": [
    "### Noise model acts on a single-qubit circuit."
   ]
  },
  {
   "cell_type": "code",
   "execution_count": 10,
   "id": "4165ad31",
   "metadata": {},
   "outputs": [
    {
     "data": {
      "image/png": "[encoded data removed]",
      "text/plain": [
       "<Figure size 989.452x204.68 with 1 Axes>"
      ]
     },
     "execution_count": 10,
     "metadata": {},
     "output_type": "execute_result"
    }
   ],
   "source": [
    "test_circuit = qct(Aeval0h,3,0)\n",
    "test_circuit.draw('mpl')"
   ]
  },
  {
   "cell_type": "code",
   "execution_count": 13,
   "id": "71aec85c",
   "metadata": {},
   "outputs": [
    {
     "name": "stdout",
     "output_type": "stream",
     "text": [
      "NoiseModel:\n",
      "  Basis gates: ['cx', 'id', 'rz', 'sx', 'u1', 'u2', 'u3']\n",
      "  Instructions with noise: ['cx', 'u3', 'u2', 'u1']\n",
      "  All-qubits errors: ['u1', 'u2', 'u3', 'cx']\n"
     ]
    },
    {
     "data": {
      "image/png": "[encoded data removed]",
      "text/plain": [
       "<Figure size 504x360 with 1 Axes>"
      ]
     },
     "execution_count": 13,
     "metadata": {},
     "output_type": "execute_result"
    }
   ],
   "source": [
    "# Create noisy simulator backend\n",
    "sim_noise = AerSimulator(noise_model = depolarizing_noise(0.9,0.9))\n",
    "\n",
    "# Transpile circuit for noisy basis gates\n",
    "circ_tnoise = transpile(test_circuit, sim_noise)\n",
    "\n",
    "# Run and get counts\n",
    "result_bit_flip = sim_noise.run(circ_tnoise).result()\n",
    "counts_bit_flip = result_bit_flip.get_counts(0)\n",
    "\n",
    "# Plot noisy output\n",
    "plot_histogram(counts_bit_flip)"
   ]
  },
  {
   "cell_type": "code",
   "execution_count": null,
   "id": "03bab924",
   "metadata": {},
   "outputs": [],
   "source": [
    "def numsli_expc (L,rang1,rang2,nuni,nshots,sigma,k,phi):   \n",
    "    \n",
    "    val0, val1,_,_,_,_ = H_obj(phi)\n",
    "    EW = np.linspace(rang1,rang2,L)   # The energy spectrum we're interested in.\n",
    "    circuits = []                     # The 'circuit matrix'. \n",
    "    \n",
    "    for i in range(L):\n",
    "        circuitsi = []\n",
    "        for j in range (nuni):\n",
    "            circuit =  qct(EW[i],sigma,phi)      \n",
    "            circuitsi.append(circuit)\n",
    "        circuits.append(circuitsi)\n",
    "        \n",
    "    all_circuits = []\n",
    "    for i in range(L):\n",
    "        all_circuits += circuits[i][:]\n",
    "    \n",
    "    \n",
    "    MExperiments = job_manager.run(all_circuits, backend=backend, shots = nshots)\n",
    "    results = MExperiments.results() \n",
    "      \n",
    "  #  cresults = results.combine_results()             # We are not doing read-out error mitigation here.   \n",
    "  #  mitigated_results = meas_filter.apply(cresults)\n",
    "        \n",
    "    probsu = []\n",
    "    succs = '0'*N\n",
    "    for i in range (L):\n",
    "        probsui = []\n",
    "        for j in range (nuni):\n",
    "       #     counts = mitigated_results.get_counts((nuni*i)+j)\n",
    "            counts = results.get_counts((nuni*i)+j)\n",
    "            \n",
    "            if succs in counts:\n",
    "                prob = counts[succs]/sum(counts.values())\n",
    "            else:\n",
    "                prob = 0\n",
    "            probsui.append(prob)\n",
    "        probsu.append(np.average(probsui))\n",
    "            \n",
    "    spec = dict(zip(EW,probsu))\n",
    "    \n",
    "    \n",
    "    plt.figure(figsize=(16.18,10)) \n",
    "    plt.xlabel(r'$Energy\\ Spectrum\\ (E_{target})$',fontsize = 15)\n",
    "    plt.ylabel('Probability to measure the success state',fontsize = 15)\n",
    "    hist = plt.bar(spec.keys(), spec.values(), width=np.abs((rang2-rang1)/L), color='lightseagreen',alpha = 0.7)  \n",
    "    plt.legend([hist],['Results from qasm'])\n",
    "    plt.grid()\n",
    "    plt.show()\n",
    "    \n",
    "    # Weighted avg based on the highest bins. \n",
    "    #Larg = dict(sorted(spec.items(), key = itemgetter(1), reverse = True)[:Hisk])\n",
    "    #Wavg = np.average(list(Larg.keys()), weights=list(Larg.values()))\n",
    "    \n",
    "    # Weighted avg of the highest consecutive bins. \n",
    "    keys = np.fromiter(spec.keys(), float, count=len(spec))\n",
    "    vals = np.fromiter(spec.values(), float, count=len(spec))\n",
    "    idx = np.convolve(vals, np.ones(k), 'valid').argmax()\n",
    "    Wavg = np.average(keys[idx:idx + k], weights=vals[idx:idx + k])\n",
    "    \n",
    "    print('Range for the next scan', keys[idx:idx + k])\n",
    "    print('The estimated Eigenvalue is', Wavg)\n",
    "    print('The precise values are',val0,'and',val1)\n",
    "    return spec"
   ]
  }
 ],
 "metadata": {
  "kernelspec": {
   "display_name": "Python 3 (ipykernel)",
   "language": "python",
   "name": "python3"
  },
  "language_info": {
   "codemirror_mode": {
    "name": "ipython",
    "version": 3
   },
   "file_extension": ".py",
   "mimetype": "text/x-python",
   "name": "python",
   "nbconvert_exporter": "python",
   "pygments_lexer": "ipython3",
   "version": "3.10.9"
  }
 },
 "nbformat": 4,
 "nbformat_minor": 5
}
